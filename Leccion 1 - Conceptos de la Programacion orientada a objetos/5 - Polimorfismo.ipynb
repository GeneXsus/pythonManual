{
 "cells": [
  {
   "cell_type": "markdown",
   "id": "e1a5a97f",
   "metadata": {},
   "source": [
    "# 5 - Polimorfismo\n",
    "\n",
    "<br>\n",
    "<br>\n",
    "\n",
    "<img src=\"https://raw.githubusercontent.com/Hack-io-AI/ai_images/main/python_oop.webp\" style=\"width:400px;\"/>"
   ]
  },
  {
   "cell_type": "markdown",
   "id": "ade2d6b1",
   "metadata": {
    "toc": true
   },
   "source": [
    "<h1>Tabla de Contenidos<span class=\"tocSkip\"></span></h1>\n",
    "<div class=\"toc\"><ul class=\"toc-item\"><li><span><a href=\"#1---Polimorfismo\" data-toc-modified-id=\"1---Polimorfismo-1\">1 - Polimorfismo</a></span></li></ul></div>"
   ]
  },
  {
   "cell_type": "markdown",
   "id": "662b70f5",
   "metadata": {},
   "source": [
    "## 1 - Polimorfismo"
   ]
  },
  {
   "cell_type": "markdown",
   "id": "1a883f53",
   "metadata": {},
   "source": [
    "El polimorfismo permite que las clases derivadas de una superclase sean tratadas como objetos de la superclase. Esto es posible porque las subclases sobrescriben o extienden los métodos de la superclase, permitiendo que los mismos métodos puedan tener diferentes comportamientos en diferentes clases. Vamos a definir una función que toma un objeto de tipo `Animal` y llama al método `hacer_sonido()`. Debido al polimorfismo, esta función funcionará con cualquier objeto que sea una instancia de una subclase de `Animal`.\n"
   ]
  },
  {
   "cell_type": "code",
   "execution_count": 1,
   "id": "aa004641",
   "metadata": {},
   "outputs": [],
   "source": [
    "# clase madre\n",
    "\n",
    "class Animal:\n",
    "    \n",
    "    def __init__(self, nombre):\n",
    "        \n",
    "        self.nombre = nombre\n",
    "        \n",
    "        \n",
    "    def hacer_sonido(self):\n",
    "        raise NotImplementedError('Define el metodo en la hija.')"
   ]
  },
  {
   "cell_type": "code",
   "execution_count": null,
   "id": "ce38f9db",
   "metadata": {},
   "outputs": [],
   "source": [
    "# clases hijas\n",
    "\n",
    "class Perro(Animal):\n",
    "    \n",
    "    def hacer_sonido(self):\n",
    "        \n",
    "        return 'Guau'\n",
    "    \n",
    "    \n",
    "    \n",
    "class Perro(Animal):\n",
    "    \n",
    "    def hacer_sonido(self):\n",
    "        \n",
    "        return 'Guau'"
   ]
  },
  {
   "cell_type": "code",
   "execution_count": null,
   "id": "1926400a",
   "metadata": {},
   "outputs": [],
   "source": []
  },
  {
   "cell_type": "code",
   "execution_count": null,
   "id": "9bb84a0d",
   "metadata": {},
   "outputs": [],
   "source": []
  },
  {
   "cell_type": "code",
   "execution_count": null,
   "id": "be3d28ea",
   "metadata": {},
   "outputs": [],
   "source": []
  },
  {
   "cell_type": "code",
   "execution_count": null,
   "id": "25474793",
   "metadata": {},
   "outputs": [],
   "source": [
    " "
   ]
  }
 ],
 "metadata": {
  "kernelspec": {
   "display_name": "ia",
   "language": "python",
   "name": "ia"
  },
  "language_info": {
   "codemirror_mode": {
    "name": "ipython",
    "version": 3
   },
   "file_extension": ".py",
   "mimetype": "text/x-python",
   "name": "python",
   "nbconvert_exporter": "python",
   "pygments_lexer": "ipython3",
   "version": "3.9.19"
  },
  "toc": {
   "base_numbering": 1,
   "nav_menu": {},
   "number_sections": false,
   "sideBar": true,
   "skip_h1_title": true,
   "title_cell": "Tabla de Contenidos",
   "title_sidebar": "Contents",
   "toc_cell": true,
   "toc_position": {
    "height": "calc(100% - 180px)",
    "left": "10px",
    "top": "150px",
    "width": "281.753px"
   },
   "toc_section_display": true,
   "toc_window_display": true
  }
 },
 "nbformat": 4,
 "nbformat_minor": 5
}
